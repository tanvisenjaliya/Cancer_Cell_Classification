{
 "cells": [
  {
   "cell_type": "markdown",
   "id": "11859bde",
   "metadata": {
    "papermill": {
     "duration": 0.011248,
     "end_time": "2023-02-03T10:12:48.242828",
     "exception": false,
     "start_time": "2023-02-03T10:12:48.231580",
     "status": "completed"
    },
    "tags": []
   },
   "source": [
    "### <font color=deeppink> Importing libraries </font>"
   ]
  },
  {
   "cell_type": "code",
   "execution_count": 1,
   "id": "ca81fef6",
   "metadata": {
    "execution": {
     "iopub.execute_input": "2023-02-03T10:12:48.262378Z",
     "iopub.status.busy": "2023-02-03T10:12:48.262014Z",
     "iopub.status.idle": "2023-02-03T10:12:54.464249Z",
     "shell.execute_reply": "2023-02-03T10:12:54.463298Z"
    },
    "papermill": {
     "duration": 6.214768,
     "end_time": "2023-02-03T10:12:54.466699",
     "exception": false,
     "start_time": "2023-02-03T10:12:48.251931",
     "status": "completed"
    },
    "tags": []
   },
   "outputs": [],
   "source": [
    "import shutil, os\n",
    "import matplotlib.pyplot as plt\n",
    "import pandas as pd\n",
    "import numpy as np\n",
    "from sklearn.metrics import confusion_matrix\n",
    "from sklearn.model_selection import train_test_split\n",
    "import itertools\n",
    "\n",
    "\n",
    "%matplotlib inline\n",
    "\n",
    "import tensorflow as tf\n",
    "from tensorflow.keras.preprocessing.image import ImageDataGenerator\n"
   ]
  },
  {
   "cell_type": "markdown",
   "id": "d0aedf26",
   "metadata": {
    "papermill": {
     "duration": 0.010408,
     "end_time": "2023-02-03T10:12:54.486860",
     "exception": false,
     "start_time": "2023-02-03T10:12:54.476452",
     "status": "completed"
    },
    "tags": []
   },
   "source": [
    "### <font color=deeppink> Making Dictionary  </font>"
   ]
  },
  {
   "cell_type": "code",
   "execution_count": 2,
   "id": "b6c09226",
   "metadata": {
    "execution": {
     "iopub.execute_input": "2023-02-03T10:12:54.508915Z",
     "iopub.status.busy": "2023-02-03T10:12:54.508308Z",
     "iopub.status.idle": "2023-02-03T10:12:54.519396Z",
     "shell.execute_reply": "2023-02-03T10:12:54.518787Z"
    },
    "papermill": {
     "duration": 0.023768,
     "end_time": "2023-02-03T10:12:54.520962",
     "exception": false,
     "start_time": "2023-02-03T10:12:54.497194",
     "status": "completed"
    },
    "tags": []
   },
   "outputs": [
    {
     "data": {
      "text/plain": [
       "['hmnist_8_8_RGB.csv',\n",
       " 'hmnist_28_28_RGB.csv',\n",
       " 'HAM10000_images_part_1',\n",
       " 'ham10000_images_part_1',\n",
       " 'hmnist_8_8_L.csv',\n",
       " 'HAM10000_images_part_2',\n",
       " 'ham10000_images_part_2',\n",
       " 'hmnist_28_28_L.csv',\n",
       " 'HAM10000_metadata.csv']"
      ]
     },
     "execution_count": 2,
     "metadata": {},
     "output_type": "execute_result"
    }
   ],
   "source": [
    "dir = '../input/skin-cancer-mnist-ham10000/'\n",
    "os.listdir(dir)"
   ]
  },
  {
   "cell_type": "code",
   "execution_count": 3,
   "id": "96c91b16",
   "metadata": {
    "execution": {
     "iopub.execute_input": "2023-02-03T10:12:54.542389Z",
     "iopub.status.busy": "2023-02-03T10:12:54.541881Z",
     "iopub.status.idle": "2023-02-03T10:12:54.545250Z",
     "shell.execute_reply": "2023-02-03T10:12:54.544699Z"
    },
    "papermill": {
     "duration": 0.015646,
     "end_time": "2023-02-03T10:12:54.546771",
     "exception": false,
     "start_time": "2023-02-03T10:12:54.531125",
     "status": "completed"
    },
    "tags": []
   },
   "outputs": [],
   "source": [
    "# Create a new directory\n",
    "base_dir = 'base_dir'\n",
    "os.mkdir(base_dir)"
   ]
  },
  {
   "cell_type": "code",
   "execution_count": 4,
   "id": "996d17dc",
   "metadata": {
    "execution": {
     "iopub.execute_input": "2023-02-03T10:12:54.567689Z",
     "iopub.status.busy": "2023-02-03T10:12:54.567318Z",
     "iopub.status.idle": "2023-02-03T10:12:54.571585Z",
     "shell.execute_reply": "2023-02-03T10:12:54.570884Z"
    },
    "papermill": {
     "duration": 0.01702,
     "end_time": "2023-02-03T10:12:54.573378",
     "exception": false,
     "start_time": "2023-02-03T10:12:54.556358",
     "status": "completed"
    },
    "tags": []
   },
   "outputs": [],
   "source": [
    "# train_dir\n",
    "train_dir = os.path.join(base_dir, 'train_dir')\n",
    "os.mkdir(train_dir)\n",
    "\n",
    "# val_dir\n",
    "val_dir = os.path.join(base_dir, 'val_dir')\n",
    "os.mkdir(val_dir)"
   ]
  },
  {
   "cell_type": "code",
   "execution_count": 5,
   "id": "5e5994ae",
   "metadata": {
    "execution": {
     "iopub.execute_input": "2023-02-03T10:12:54.593947Z",
     "iopub.status.busy": "2023-02-03T10:12:54.593577Z",
     "iopub.status.idle": "2023-02-03T10:12:54.600434Z",
     "shell.execute_reply": "2023-02-03T10:12:54.599816Z"
    },
    "papermill": {
     "duration": 0.019011,
     "end_time": "2023-02-03T10:12:54.602041",
     "exception": false,
     "start_time": "2023-02-03T10:12:54.583030",
     "status": "completed"
    },
    "tags": []
   },
   "outputs": [],
   "source": [
    "# create new folders inside train_dir\n",
    "nv = os.path.join(train_dir, 'nv')\n",
    "os.mkdir(nv)\n",
    "mel = os.path.join(train_dir, 'mel')\n",
    "os.mkdir(mel)\n",
    "bkl = os.path.join(train_dir, 'bkl')\n",
    "os.mkdir(bkl)\n",
    "bcc = os.path.join(train_dir, 'bcc')\n",
    "os.mkdir(bcc)\n",
    "akiec = os.path.join(train_dir, 'akiec')\n",
    "os.mkdir(akiec)\n",
    "vasc = os.path.join(train_dir, 'vasc')\n",
    "os.mkdir(vasc)\n",
    "df = os.path.join(train_dir, 'df')\n",
    "os.mkdir(df)"
   ]
  },
  {
   "cell_type": "code",
   "execution_count": 6,
   "id": "63825a27",
   "metadata": {
    "execution": {
     "iopub.execute_input": "2023-02-03T10:12:54.623796Z",
     "iopub.status.busy": "2023-02-03T10:12:54.622830Z",
     "iopub.status.idle": "2023-02-03T10:12:54.630070Z",
     "shell.execute_reply": "2023-02-03T10:12:54.629125Z"
    },
    "papermill": {
     "duration": 0.020823,
     "end_time": "2023-02-03T10:12:54.632508",
     "exception": false,
     "start_time": "2023-02-03T10:12:54.611685",
     "status": "completed"
    },
    "tags": []
   },
   "outputs": [],
   "source": [
    "# create new folders inside val_dir\n",
    "nv = os.path.join(val_dir, 'nv')\n",
    "os.mkdir(nv)\n",
    "mel = os.path.join(val_dir, 'mel')\n",
    "os.mkdir(mel)\n",
    "bkl = os.path.join(val_dir, 'bkl')\n",
    "os.mkdir(bkl)\n",
    "bcc = os.path.join(val_dir, 'bcc')\n",
    "os.mkdir(bcc)\n",
    "akiec = os.path.join(val_dir, 'akiec')\n",
    "os.mkdir(akiec)\n",
    "vasc = os.path.join(val_dir, 'vasc')\n",
    "os.mkdir(vasc)\n",
    "df = os.path.join(val_dir, 'df')\n",
    "os.mkdir(df)"
   ]
  },
  {
   "cell_type": "code",
   "execution_count": 7,
   "id": "c4eaaf7b",
   "metadata": {
    "execution": {
     "iopub.execute_input": "2023-02-03T10:12:54.653516Z",
     "iopub.status.busy": "2023-02-03T10:12:54.653112Z",
     "iopub.status.idle": "2023-02-03T10:12:54.701677Z",
     "shell.execute_reply": "2023-02-03T10:12:54.700683Z"
    },
    "papermill": {
     "duration": 0.060961,
     "end_time": "2023-02-03T10:12:54.703511",
     "exception": false,
     "start_time": "2023-02-03T10:12:54.642550",
     "status": "completed"
    },
    "tags": []
   },
   "outputs": [
    {
     "data": {
      "text/html": [
       "<div>\n",
       "<style scoped>\n",
       "    .dataframe tbody tr th:only-of-type {\n",
       "        vertical-align: middle;\n",
       "    }\n",
       "\n",
       "    .dataframe tbody tr th {\n",
       "        vertical-align: top;\n",
       "    }\n",
       "\n",
       "    .dataframe thead th {\n",
       "        text-align: right;\n",
       "    }\n",
       "</style>\n",
       "<table border=\"1\" class=\"dataframe\">\n",
       "  <thead>\n",
       "    <tr style=\"text-align: right;\">\n",
       "      <th></th>\n",
       "      <th>lesion_id</th>\n",
       "      <th>image_id</th>\n",
       "      <th>dx</th>\n",
       "      <th>dx_type</th>\n",
       "      <th>age</th>\n",
       "      <th>sex</th>\n",
       "      <th>localization</th>\n",
       "    </tr>\n",
       "  </thead>\n",
       "  <tbody>\n",
       "    <tr>\n",
       "      <th>0</th>\n",
       "      <td>HAM_0000118</td>\n",
       "      <td>ISIC_0027419</td>\n",
       "      <td>bkl</td>\n",
       "      <td>histo</td>\n",
       "      <td>80.0</td>\n",
       "      <td>male</td>\n",
       "      <td>scalp</td>\n",
       "    </tr>\n",
       "    <tr>\n",
       "      <th>1</th>\n",
       "      <td>HAM_0000118</td>\n",
       "      <td>ISIC_0025030</td>\n",
       "      <td>bkl</td>\n",
       "      <td>histo</td>\n",
       "      <td>80.0</td>\n",
       "      <td>male</td>\n",
       "      <td>scalp</td>\n",
       "    </tr>\n",
       "    <tr>\n",
       "      <th>2</th>\n",
       "      <td>HAM_0002730</td>\n",
       "      <td>ISIC_0026769</td>\n",
       "      <td>bkl</td>\n",
       "      <td>histo</td>\n",
       "      <td>80.0</td>\n",
       "      <td>male</td>\n",
       "      <td>scalp</td>\n",
       "    </tr>\n",
       "    <tr>\n",
       "      <th>3</th>\n",
       "      <td>HAM_0002730</td>\n",
       "      <td>ISIC_0025661</td>\n",
       "      <td>bkl</td>\n",
       "      <td>histo</td>\n",
       "      <td>80.0</td>\n",
       "      <td>male</td>\n",
       "      <td>scalp</td>\n",
       "    </tr>\n",
       "    <tr>\n",
       "      <th>4</th>\n",
       "      <td>HAM_0001466</td>\n",
       "      <td>ISIC_0031633</td>\n",
       "      <td>bkl</td>\n",
       "      <td>histo</td>\n",
       "      <td>75.0</td>\n",
       "      <td>male</td>\n",
       "      <td>ear</td>\n",
       "    </tr>\n",
       "  </tbody>\n",
       "</table>\n",
       "</div>"
      ],
      "text/plain": [
       "     lesion_id      image_id   dx dx_type   age   sex localization\n",
       "0  HAM_0000118  ISIC_0027419  bkl   histo  80.0  male        scalp\n",
       "1  HAM_0000118  ISIC_0025030  bkl   histo  80.0  male        scalp\n",
       "2  HAM_0002730  ISIC_0026769  bkl   histo  80.0  male        scalp\n",
       "3  HAM_0002730  ISIC_0025661  bkl   histo  80.0  male        scalp\n",
       "4  HAM_0001466  ISIC_0031633  bkl   histo  75.0  male          ear"
      ]
     },
     "execution_count": 7,
     "metadata": {},
     "output_type": "execute_result"
    }
   ],
   "source": [
    "df_data = pd.read_csv(dir+'HAM10000_metadata.csv')\n",
    "\n",
    "df_data.head()"
   ]
  },
  {
   "cell_type": "markdown",
   "id": "9a43b124",
   "metadata": {
    "papermill": {
     "duration": 0.009057,
     "end_time": "2023-02-03T10:12:54.722274",
     "exception": false,
     "start_time": "2023-02-03T10:12:54.713217",
     "status": "completed"
    },
    "tags": []
   },
   "source": [
    "### <font color=deeppink> Data Cleaning</font>"
   ]
  },
  {
   "cell_type": "code",
   "execution_count": 8,
   "id": "388e1e2d",
   "metadata": {
    "execution": {
     "iopub.execute_input": "2023-02-03T10:12:54.742295Z",
     "iopub.status.busy": "2023-02-03T10:12:54.741946Z",
     "iopub.status.idle": "2023-02-03T10:12:54.769601Z",
     "shell.execute_reply": "2023-02-03T10:12:54.768991Z"
    },
    "papermill": {
     "duration": 0.039629,
     "end_time": "2023-02-03T10:12:54.771113",
     "exception": false,
     "start_time": "2023-02-03T10:12:54.731484",
     "status": "completed"
    },
    "tags": []
   },
   "outputs": [
    {
     "data": {
      "text/html": [
       "<div>\n",
       "<style scoped>\n",
       "    .dataframe tbody tr th:only-of-type {\n",
       "        vertical-align: middle;\n",
       "    }\n",
       "\n",
       "    .dataframe tbody tr th {\n",
       "        vertical-align: top;\n",
       "    }\n",
       "\n",
       "    .dataframe thead th {\n",
       "        text-align: right;\n",
       "    }\n",
       "</style>\n",
       "<table border=\"1\" class=\"dataframe\">\n",
       "  <thead>\n",
       "    <tr style=\"text-align: right;\">\n",
       "      <th></th>\n",
       "      <th>lesion_id</th>\n",
       "      <th>image_id</th>\n",
       "      <th>dx</th>\n",
       "      <th>dx_type</th>\n",
       "      <th>age</th>\n",
       "      <th>sex</th>\n",
       "      <th>localization</th>\n",
       "    </tr>\n",
       "  </thead>\n",
       "  <tbody>\n",
       "    <tr>\n",
       "      <th>0</th>\n",
       "      <td>HAM_0000001</td>\n",
       "      <td>1</td>\n",
       "      <td>1</td>\n",
       "      <td>1</td>\n",
       "      <td>1</td>\n",
       "      <td>1</td>\n",
       "      <td>1</td>\n",
       "    </tr>\n",
       "    <tr>\n",
       "      <th>1</th>\n",
       "      <td>HAM_0000003</td>\n",
       "      <td>1</td>\n",
       "      <td>1</td>\n",
       "      <td>1</td>\n",
       "      <td>1</td>\n",
       "      <td>1</td>\n",
       "      <td>1</td>\n",
       "    </tr>\n",
       "    <tr>\n",
       "      <th>2</th>\n",
       "      <td>HAM_0000004</td>\n",
       "      <td>1</td>\n",
       "      <td>1</td>\n",
       "      <td>1</td>\n",
       "      <td>1</td>\n",
       "      <td>1</td>\n",
       "      <td>1</td>\n",
       "    </tr>\n",
       "    <tr>\n",
       "      <th>3</th>\n",
       "      <td>HAM_0000007</td>\n",
       "      <td>1</td>\n",
       "      <td>1</td>\n",
       "      <td>1</td>\n",
       "      <td>1</td>\n",
       "      <td>1</td>\n",
       "      <td>1</td>\n",
       "    </tr>\n",
       "    <tr>\n",
       "      <th>4</th>\n",
       "      <td>HAM_0000008</td>\n",
       "      <td>1</td>\n",
       "      <td>1</td>\n",
       "      <td>1</td>\n",
       "      <td>1</td>\n",
       "      <td>1</td>\n",
       "      <td>1</td>\n",
       "    </tr>\n",
       "  </tbody>\n",
       "</table>\n",
       "</div>"
      ],
      "text/plain": [
       "     lesion_id  image_id  dx  dx_type  age  sex  localization\n",
       "0  HAM_0000001         1   1        1    1    1             1\n",
       "1  HAM_0000003         1   1        1    1    1             1\n",
       "2  HAM_0000004         1   1        1    1    1             1\n",
       "3  HAM_0000007         1   1        1    1    1             1\n",
       "4  HAM_0000008         1   1        1    1    1             1"
      ]
     },
     "execution_count": 8,
     "metadata": {},
     "output_type": "execute_result"
    }
   ],
   "source": [
    "# grouping all images and counting them by each lesion_id\n",
    "df = df_data.groupby('lesion_id').count()\n",
    "\n",
    "# now we filter out lesion_id's that have only one image associated with it\n",
    "df = df[df['image_id'] == 1]\n",
    "\n",
    "df.reset_index(inplace=True)\n",
    "\n",
    "df.head()"
   ]
  },
  {
   "cell_type": "code",
   "execution_count": 9,
   "id": "2eaa4ae9",
   "metadata": {
    "execution": {
     "iopub.execute_input": "2023-02-03T10:12:54.791978Z",
     "iopub.status.busy": "2023-02-03T10:12:54.791195Z",
     "iopub.status.idle": "2023-02-03T10:13:00.361190Z",
     "shell.execute_reply": "2023-02-03T10:13:00.359942Z"
    },
    "papermill": {
     "duration": 5.582217,
     "end_time": "2023-02-03T10:13:00.363178",
     "exception": false,
     "start_time": "2023-02-03T10:12:54.780961",
     "status": "completed"
    },
    "tags": []
   },
   "outputs": [
    {
     "data": {
      "text/html": [
       "<div>\n",
       "<style scoped>\n",
       "    .dataframe tbody tr th:only-of-type {\n",
       "        vertical-align: middle;\n",
       "    }\n",
       "\n",
       "    .dataframe tbody tr th {\n",
       "        vertical-align: top;\n",
       "    }\n",
       "\n",
       "    .dataframe thead th {\n",
       "        text-align: right;\n",
       "    }\n",
       "</style>\n",
       "<table border=\"1\" class=\"dataframe\">\n",
       "  <thead>\n",
       "    <tr style=\"text-align: right;\">\n",
       "      <th></th>\n",
       "      <th>lesion_id</th>\n",
       "      <th>image_id</th>\n",
       "      <th>dx</th>\n",
       "      <th>dx_type</th>\n",
       "      <th>age</th>\n",
       "      <th>sex</th>\n",
       "      <th>localization</th>\n",
       "      <th>duplicates</th>\n",
       "    </tr>\n",
       "  </thead>\n",
       "  <tbody>\n",
       "    <tr>\n",
       "      <th>0</th>\n",
       "      <td>HAM_0000118</td>\n",
       "      <td>ISIC_0027419</td>\n",
       "      <td>bkl</td>\n",
       "      <td>histo</td>\n",
       "      <td>80.0</td>\n",
       "      <td>male</td>\n",
       "      <td>scalp</td>\n",
       "      <td>has_duplicates</td>\n",
       "    </tr>\n",
       "    <tr>\n",
       "      <th>1</th>\n",
       "      <td>HAM_0000118</td>\n",
       "      <td>ISIC_0025030</td>\n",
       "      <td>bkl</td>\n",
       "      <td>histo</td>\n",
       "      <td>80.0</td>\n",
       "      <td>male</td>\n",
       "      <td>scalp</td>\n",
       "      <td>has_duplicates</td>\n",
       "    </tr>\n",
       "    <tr>\n",
       "      <th>2</th>\n",
       "      <td>HAM_0002730</td>\n",
       "      <td>ISIC_0026769</td>\n",
       "      <td>bkl</td>\n",
       "      <td>histo</td>\n",
       "      <td>80.0</td>\n",
       "      <td>male</td>\n",
       "      <td>scalp</td>\n",
       "      <td>has_duplicates</td>\n",
       "    </tr>\n",
       "    <tr>\n",
       "      <th>3</th>\n",
       "      <td>HAM_0002730</td>\n",
       "      <td>ISIC_0025661</td>\n",
       "      <td>bkl</td>\n",
       "      <td>histo</td>\n",
       "      <td>80.0</td>\n",
       "      <td>male</td>\n",
       "      <td>scalp</td>\n",
       "      <td>has_duplicates</td>\n",
       "    </tr>\n",
       "    <tr>\n",
       "      <th>4</th>\n",
       "      <td>HAM_0001466</td>\n",
       "      <td>ISIC_0031633</td>\n",
       "      <td>bkl</td>\n",
       "      <td>histo</td>\n",
       "      <td>75.0</td>\n",
       "      <td>male</td>\n",
       "      <td>ear</td>\n",
       "      <td>has_duplicates</td>\n",
       "    </tr>\n",
       "  </tbody>\n",
       "</table>\n",
       "</div>"
      ],
      "text/plain": [
       "     lesion_id      image_id   dx dx_type   age   sex localization  \\\n",
       "0  HAM_0000118  ISIC_0027419  bkl   histo  80.0  male        scalp   \n",
       "1  HAM_0000118  ISIC_0025030  bkl   histo  80.0  male        scalp   \n",
       "2  HAM_0002730  ISIC_0026769  bkl   histo  80.0  male        scalp   \n",
       "3  HAM_0002730  ISIC_0025661  bkl   histo  80.0  male        scalp   \n",
       "4  HAM_0001466  ISIC_0031633  bkl   histo  75.0  male          ear   \n",
       "\n",
       "       duplicates  \n",
       "0  has_duplicates  \n",
       "1  has_duplicates  \n",
       "2  has_duplicates  \n",
       "3  has_duplicates  \n",
       "4  has_duplicates  "
      ]
     },
     "execution_count": 9,
     "metadata": {},
     "output_type": "execute_result"
    }
   ],
   "source": [
    "# here we identify lesion_id's that have duplicate images and those that have only\n",
    "# one image.\n",
    "\n",
    "def identify_duplicates(x):\n",
    "    \n",
    "    unique_list = list(df['lesion_id'])\n",
    "    \n",
    "    if x in unique_list:\n",
    "        return 'no_duplicates'\n",
    "    else:\n",
    "        return 'has_duplicates'\n",
    "    \n",
    "# create a new colum that is a copy of the lesion_id column\n",
    "df_data['duplicates'] = df_data['lesion_id']\n",
    "# apply the function to this new column\n",
    "df_data['duplicates'] = df_data['duplicates'].apply(identify_duplicates)\n",
    "\n",
    "df_data.head()"
   ]
  },
  {
   "cell_type": "code",
   "execution_count": 10,
   "id": "da49218a",
   "metadata": {
    "execution": {
     "iopub.execute_input": "2023-02-03T10:13:00.385714Z",
     "iopub.status.busy": "2023-02-03T10:13:00.385355Z",
     "iopub.status.idle": "2023-02-03T10:13:00.394839Z",
     "shell.execute_reply": "2023-02-03T10:13:00.393717Z"
    },
    "papermill": {
     "duration": 0.023902,
     "end_time": "2023-02-03T10:13:00.397034",
     "exception": false,
     "start_time": "2023-02-03T10:13:00.373132",
     "status": "completed"
    },
    "tags": []
   },
   "outputs": [
    {
     "data": {
      "text/plain": [
       "no_duplicates     5514\n",
       "has_duplicates    4501\n",
       "Name: duplicates, dtype: int64"
      ]
     },
     "execution_count": 10,
     "metadata": {},
     "output_type": "execute_result"
    }
   ],
   "source": [
    "df_data['duplicates'].value_counts()"
   ]
  },
  {
   "cell_type": "code",
   "execution_count": 11,
   "id": "ad0a4c34",
   "metadata": {
    "execution": {
     "iopub.execute_input": "2023-02-03T10:13:00.419142Z",
     "iopub.status.busy": "2023-02-03T10:13:00.418707Z",
     "iopub.status.idle": "2023-02-03T10:13:00.425975Z",
     "shell.execute_reply": "2023-02-03T10:13:00.425392Z"
    },
    "papermill": {
     "duration": 0.02026,
     "end_time": "2023-02-03T10:13:00.427778",
     "exception": false,
     "start_time": "2023-02-03T10:13:00.407518",
     "status": "completed"
    },
    "tags": []
   },
   "outputs": [
    {
     "data": {
      "text/plain": [
       "(5514, 8)"
      ]
     },
     "execution_count": 11,
     "metadata": {},
     "output_type": "execute_result"
    }
   ],
   "source": [
    "# now we filter out images that don't have duplicates\n",
    "df = df_data[df_data['duplicates'] == 'no_duplicates']\n",
    "\n",
    "df.shape"
   ]
  },
  {
   "cell_type": "code",
   "execution_count": 12,
   "id": "e9accd38",
   "metadata": {
    "execution": {
     "iopub.execute_input": "2023-02-03T10:13:00.449815Z",
     "iopub.status.busy": "2023-02-03T10:13:00.449321Z",
     "iopub.status.idle": "2023-02-03T10:13:00.461626Z",
     "shell.execute_reply": "2023-02-03T10:13:00.460817Z"
    },
    "papermill": {
     "duration": 0.025095,
     "end_time": "2023-02-03T10:13:00.463543",
     "exception": false,
     "start_time": "2023-02-03T10:13:00.438448",
     "status": "completed"
    },
    "tags": []
   },
   "outputs": [
    {
     "data": {
      "text/plain": [
       "(938, 8)"
      ]
     },
     "execution_count": 12,
     "metadata": {},
     "output_type": "execute_result"
    }
   ],
   "source": [
    "# now we create a val set using df because we are sure that none of these images\n",
    "# have augmented duplicates in the train set\n",
    "y = df['dx']\n",
    "\n",
    "_, df_val = train_test_split(df, test_size=0.17, random_state=101, stratify=y)\n",
    "\n",
    "df_val.shape"
   ]
  },
  {
   "cell_type": "code",
   "execution_count": 13,
   "id": "b90caac5",
   "metadata": {
    "execution": {
     "iopub.execute_input": "2023-02-03T10:13:00.485941Z",
     "iopub.status.busy": "2023-02-03T10:13:00.485642Z",
     "iopub.status.idle": "2023-02-03T10:13:00.493507Z",
     "shell.execute_reply": "2023-02-03T10:13:00.492394Z"
    },
    "papermill": {
     "duration": 0.021114,
     "end_time": "2023-02-03T10:13:00.495438",
     "exception": false,
     "start_time": "2023-02-03T10:13:00.474324",
     "status": "completed"
    },
    "tags": []
   },
   "outputs": [
    {
     "data": {
      "text/plain": [
       "nv       751\n",
       "bkl       75\n",
       "mel       39\n",
       "bcc       30\n",
       "akiec     26\n",
       "vasc      11\n",
       "df         6\n",
       "Name: dx, dtype: int64"
      ]
     },
     "execution_count": 13,
     "metadata": {},
     "output_type": "execute_result"
    }
   ],
   "source": [
    "df_val['dx'].value_counts()"
   ]
  },
  {
   "cell_type": "code",
   "execution_count": 14,
   "id": "f8d9e58b",
   "metadata": {
    "execution": {
     "iopub.execute_input": "2023-02-03T10:13:00.516831Z",
     "iopub.status.busy": "2023-02-03T10:13:00.516574Z",
     "iopub.status.idle": "2023-02-03T10:13:01.487667Z",
     "shell.execute_reply": "2023-02-03T10:13:01.486235Z"
    },
    "papermill": {
     "duration": 0.984134,
     "end_time": "2023-02-03T10:13:01.489683",
     "exception": false,
     "start_time": "2023-02-03T10:13:00.505549",
     "status": "completed"
    },
    "tags": []
   },
   "outputs": [
    {
     "name": "stdout",
     "output_type": "stream",
     "text": [
      "9077\n",
      "938\n"
     ]
    }
   ],
   "source": [
    "# This set will be df_data excluding all rows that are in the val set\n",
    "\n",
    "# This function identifies if an image is part of the train\n",
    "# or val set.\n",
    "def identify_val_rows(x):\n",
    "    # create a list of all the lesion_id's in the val set\n",
    "    val_list = list(df_val['image_id'])\n",
    "    \n",
    "    if str(x) in val_list:\n",
    "        return 'val'\n",
    "    else:\n",
    "        return 'train'\n",
    "\n",
    "# identify train and val rows\n",
    "\n",
    "# create a new colum that is a copy of the image_id column\n",
    "df_data['train_or_val'] = df_data['image_id']\n",
    "# apply the function to this new column\n",
    "df_data['train_or_val'] = df_data['train_or_val'].apply(identify_val_rows)\n",
    "   \n",
    "# filter out train rows\n",
    "df_train = df_data[df_data['train_or_val'] == 'train']\n",
    "\n",
    "\n",
    "print(len(df_train))\n",
    "print(len(df_val))"
   ]
  },
  {
   "cell_type": "code",
   "execution_count": 15,
   "id": "f97b863b",
   "metadata": {
    "execution": {
     "iopub.execute_input": "2023-02-03T10:13:01.513315Z",
     "iopub.status.busy": "2023-02-03T10:13:01.512980Z",
     "iopub.status.idle": "2023-02-03T10:13:01.523491Z",
     "shell.execute_reply": "2023-02-03T10:13:01.522463Z"
    },
    "papermill": {
     "duration": 0.024631,
     "end_time": "2023-02-03T10:13:01.525438",
     "exception": false,
     "start_time": "2023-02-03T10:13:01.500807",
     "status": "completed"
    },
    "tags": []
   },
   "outputs": [
    {
     "name": "stdout",
     "output_type": "stream",
     "text": [
      "Training data\n",
      " nv       5954\n",
      "mel      1074\n",
      "bkl      1024\n",
      "bcc       484\n",
      "akiec     301\n",
      "vasc      131\n",
      "df        109\n",
      "Name: dx, dtype: int64\n",
      "Validating data\n",
      " nv       751\n",
      "bkl       75\n",
      "mel       39\n",
      "bcc       30\n",
      "akiec     26\n",
      "vasc      11\n",
      "df         6\n",
      "Name: dx, dtype: int64\n"
     ]
    }
   ],
   "source": [
    "print(\"Training data\\n\",df_train['dx'].value_counts())\n",
    "print(\"Validating data\\n\",df_val['dx'].value_counts())"
   ]
  },
  {
   "cell_type": "markdown",
   "id": "fbf5cdd6",
   "metadata": {
    "papermill": {
     "duration": 0.011038,
     "end_time": "2023-02-03T10:13:01.547804",
     "exception": false,
     "start_time": "2023-02-03T10:13:01.536766",
     "status": "completed"
    },
    "tags": []
   },
   "source": [
    "### <font color=deeppink> Transfering the Images into the Folders</font>"
   ]
  },
  {
   "cell_type": "code",
   "execution_count": 16,
   "id": "a65f309e",
   "metadata": {
    "execution": {
     "iopub.execute_input": "2023-02-03T10:13:01.571226Z",
     "iopub.status.busy": "2023-02-03T10:13:01.570861Z",
     "iopub.status.idle": "2023-02-03T10:13:01.575875Z",
     "shell.execute_reply": "2023-02-03T10:13:01.574939Z"
    },
    "papermill": {
     "duration": 0.01895,
     "end_time": "2023-02-03T10:13:01.577780",
     "exception": false,
     "start_time": "2023-02-03T10:13:01.558830",
     "status": "completed"
    },
    "tags": []
   },
   "outputs": [],
   "source": [
    "# Set the image_id as the index in df_data\n",
    "df_data.set_index('image_id', inplace=True)"
   ]
  },
  {
   "cell_type": "code",
   "execution_count": 17,
   "id": "9681e9af",
   "metadata": {
    "execution": {
     "iopub.execute_input": "2023-02-03T10:13:01.602004Z",
     "iopub.status.busy": "2023-02-03T10:13:01.600902Z",
     "iopub.status.idle": "2023-02-03T10:13:01.605383Z",
     "shell.execute_reply": "2023-02-03T10:13:01.604798Z"
    },
    "papermill": {
     "duration": 0.018349,
     "end_time": "2023-02-03T10:13:01.607153",
     "exception": false,
     "start_time": "2023-02-03T10:13:01.588804",
     "status": "completed"
    },
    "tags": []
   },
   "outputs": [],
   "source": [
    "base_dir = 'base_dir'\n",
    "\n",
    "train_dir = os.path.join(base_dir, 'train_dir')\n",
    "\n",
    "val_dir = os.path.join(base_dir, 'val_dir')"
   ]
  },
  {
   "cell_type": "code",
   "execution_count": 18,
   "id": "debd7192",
   "metadata": {
    "execution": {
     "iopub.execute_input": "2023-02-03T10:13:01.632209Z",
     "iopub.status.busy": "2023-02-03T10:13:01.630173Z",
     "iopub.status.idle": "2023-02-03T10:14:36.718694Z",
     "shell.execute_reply": "2023-02-03T10:14:36.717634Z"
    },
    "papermill": {
     "duration": 95.102983,
     "end_time": "2023-02-03T10:14:36.721073",
     "exception": false,
     "start_time": "2023-02-03T10:13:01.618090",
     "status": "completed"
    },
    "tags": []
   },
   "outputs": [],
   "source": [
    "# Get a list of images in each of the two folders\n",
    "folder_1 = os.listdir(dir+'ham10000_images_part_1')\n",
    "folder_2 = os.listdir(dir+'ham10000_images_part_2')\n",
    "\n",
    "# Get a list of train and val images\n",
    "train_list = list(df_train['image_id'])\n",
    "val_list = list(df_val['image_id'])\n",
    "\n",
    "\n",
    "\n",
    "# Transfer the train images\n",
    "\n",
    "for image in train_list:\n",
    "    \n",
    "    fname = image + '.jpg'\n",
    "    label = df_data.loc[image,'dx']\n",
    "    \n",
    "    if fname in folder_1:\n",
    "        # source path to image\n",
    "        src = os.path.join(dir+'ham10000_images_part_1', fname)\n",
    "        # destination path to image\n",
    "        dst = os.path.join(train_dir, label, fname)\n",
    "        # copy the image from the source to the destination\n",
    "        shutil.copyfile(src, dst)\n",
    "\n",
    "    if fname in folder_2:\n",
    "        # source path to image\n",
    "        src = os.path.join(dir+'ham10000_images_part_2', fname)\n",
    "        # destination path to image\n",
    "        dst = os.path.join(train_dir, label, fname)\n",
    "        # copy the image from the source to the destination\n",
    "        shutil.copyfile(src, dst)\n",
    "\n",
    "\n",
    "# Transfer the val images\n",
    "\n",
    "for image in val_list:\n",
    "    \n",
    "    fname = image + '.jpg'\n",
    "    label = df_data.loc[image,'dx']\n",
    "    \n",
    "    if fname in folder_1:\n",
    "        # source path to image\n",
    "        src = os.path.join(dir+'ham10000_images_part_1', fname)\n",
    "        # destination path to image\n",
    "        dst = os.path.join(val_dir, label, fname)\n",
    "        # copy the image from the source to the destination\n",
    "        shutil.copyfile(src, dst)\n",
    "\n",
    "    if fname in folder_2:\n",
    "        # source path to image\n",
    "        src = os.path.join(dir+'ham10000_images_part_2', fname)\n",
    "        # destination path to image\n",
    "        dst = os.path.join(val_dir, label, fname)\n",
    "        # copy the image from the source to the destination\n",
    "        shutil.copyfile(src, dst)\n",
    "        "
   ]
  },
  {
   "cell_type": "code",
   "execution_count": 19,
   "id": "22c17032",
   "metadata": {
    "execution": {
     "iopub.execute_input": "2023-02-03T10:14:36.745695Z",
     "iopub.status.busy": "2023-02-03T10:14:36.745311Z",
     "iopub.status.idle": "2023-02-03T10:14:36.756484Z",
     "shell.execute_reply": "2023-02-03T10:14:36.755055Z"
    },
    "papermill": {
     "duration": 0.025867,
     "end_time": "2023-02-03T10:14:36.758586",
     "exception": false,
     "start_time": "2023-02-03T10:14:36.732719",
     "status": "completed"
    },
    "tags": []
   },
   "outputs": [
    {
     "name": "stdout",
     "output_type": "stream",
     "text": [
      "5954\n",
      "1074\n",
      "1024\n",
      "484\n",
      "301\n",
      "131\n",
      "109\n"
     ]
    }
   ],
   "source": [
    "# check how many train images we have in each folder\n",
    "\n",
    "print(len(os.listdir('base_dir/train_dir/nv')))\n",
    "print(len(os.listdir('base_dir/train_dir/mel')))\n",
    "print(len(os.listdir('base_dir/train_dir/bkl')))\n",
    "print(len(os.listdir('base_dir/train_dir/bcc')))\n",
    "print(len(os.listdir('base_dir/train_dir/akiec')))\n",
    "print(len(os.listdir('base_dir/train_dir/vasc')))\n",
    "print(len(os.listdir('base_dir/train_dir/df')))"
   ]
  },
  {
   "cell_type": "code",
   "execution_count": 20,
   "id": "00a81cc6",
   "metadata": {
    "execution": {
     "iopub.execute_input": "2023-02-03T10:14:36.781095Z",
     "iopub.status.busy": "2023-02-03T10:14:36.780798Z",
     "iopub.status.idle": "2023-02-03T10:14:36.788501Z",
     "shell.execute_reply": "2023-02-03T10:14:36.786446Z"
    },
    "papermill": {
     "duration": 0.02139,
     "end_time": "2023-02-03T10:14:36.790905",
     "exception": false,
     "start_time": "2023-02-03T10:14:36.769515",
     "status": "completed"
    },
    "tags": []
   },
   "outputs": [
    {
     "name": "stdout",
     "output_type": "stream",
     "text": [
      "751\n",
      "39\n",
      "75\n",
      "30\n",
      "26\n",
      "11\n",
      "6\n"
     ]
    }
   ],
   "source": [
    "# check how many val images we have in each folder\n",
    "\n",
    "print(len(os.listdir('base_dir/val_dir/nv')))\n",
    "print(len(os.listdir('base_dir/val_dir/mel')))\n",
    "print(len(os.listdir('base_dir/val_dir/bkl')))\n",
    "print(len(os.listdir('base_dir/val_dir/bcc')))\n",
    "print(len(os.listdir('base_dir/val_dir/akiec')))\n",
    "print(len(os.listdir('base_dir/val_dir/vasc')))\n",
    "print(len(os.listdir('base_dir/val_dir/df')))"
   ]
  },
  {
   "cell_type": "code",
   "execution_count": 21,
   "id": "2c40e225",
   "metadata": {
    "execution": {
     "iopub.execute_input": "2023-02-03T10:14:36.813093Z",
     "iopub.status.busy": "2023-02-03T10:14:36.812703Z",
     "iopub.status.idle": "2023-02-03T10:14:36.818032Z",
     "shell.execute_reply": "2023-02-03T10:14:36.816916Z"
    },
    "papermill": {
     "duration": 0.019477,
     "end_time": "2023-02-03T10:14:36.820687",
     "exception": false,
     "start_time": "2023-02-03T10:14:36.801210",
     "status": "completed"
    },
    "tags": []
   },
   "outputs": [],
   "source": [
    "train_path = 'base_dir/train_dir'\n",
    "valid_path = 'base_dir/val_dir'\n",
    "\n",
    "num_train_samples = len(df_train)\n",
    "num_val_samples = len(df_val)\n",
    "train_batch_size = 10\n",
    "val_batch_size = 10\n",
    "image_size = 224\n",
    "\n",
    "train_steps = np.ceil(num_train_samples / train_batch_size)\n",
    "val_steps = np.ceil(num_val_samples / val_batch_size)\n"
   ]
  },
  {
   "cell_type": "code",
   "execution_count": 22,
   "id": "727119af",
   "metadata": {
    "execution": {
     "iopub.execute_input": "2023-02-03T10:14:36.843921Z",
     "iopub.status.busy": "2023-02-03T10:14:36.843209Z",
     "iopub.status.idle": "2023-02-03T10:14:37.373189Z",
     "shell.execute_reply": "2023-02-03T10:14:37.372066Z"
    },
    "papermill": {
     "duration": 0.54388,
     "end_time": "2023-02-03T10:14:37.375628",
     "exception": false,
     "start_time": "2023-02-03T10:14:36.831748",
     "status": "completed"
    },
    "tags": []
   },
   "outputs": [
    {
     "name": "stdout",
     "output_type": "stream",
     "text": [
      "Found 9077 images belonging to 7 classes.\n",
      "Found 938 images belonging to 7 classes.\n",
      "Found 938 images belonging to 7 classes.\n"
     ]
    }
   ],
   "source": [
    "\n",
    "datagen = ImageDataGenerator(\n",
    "    preprocessing_function= \\\n",
    "    tf.keras.applications.mobilenet.preprocess_input)\n",
    "\n",
    "train_batches = datagen.flow_from_directory(train_path,\n",
    "                                            target_size=(image_size,image_size),\n",
    "                                            batch_size=train_batch_size)\n",
    "\n",
    "valid_batches = datagen.flow_from_directory(valid_path,\n",
    "                                            target_size=(image_size,image_size),\n",
    "                                            batch_size=val_batch_size)\n",
    "\n",
    "# Note: shuffle=False causes the test dataset to not be shuffled\n",
    "test_batches = datagen.flow_from_directory(valid_path,\n",
    "                                            target_size=(image_size,image_size),\n",
    "                                            batch_size=1,\n",
    "                                            shuffle=False)"
   ]
  },
  {
   "cell_type": "markdown",
   "id": "72bf52fb",
   "metadata": {
    "papermill": {
     "duration": 0.009989,
     "end_time": "2023-02-03T10:14:37.396894",
     "exception": false,
     "start_time": "2023-02-03T10:14:37.386905",
     "status": "completed"
    },
    "tags": []
   },
   "source": [
    "# <font color=deeppink>  MobileNet </font>"
   ]
  },
  {
   "cell_type": "code",
   "execution_count": 23,
   "id": "27c2c6dc",
   "metadata": {
    "execution": {
     "iopub.execute_input": "2023-02-03T10:14:37.418540Z",
     "iopub.status.busy": "2023-02-03T10:14:37.418181Z",
     "iopub.status.idle": "2023-02-03T10:14:38.298644Z",
     "shell.execute_reply": "2023-02-03T10:14:38.297713Z"
    },
    "papermill": {
     "duration": 0.893877,
     "end_time": "2023-02-03T10:14:38.300844",
     "exception": false,
     "start_time": "2023-02-03T10:14:37.406967",
     "status": "completed"
    },
    "tags": []
   },
   "outputs": [
    {
     "name": "stderr",
     "output_type": "stream",
     "text": [
      "2023-02-03 10:14:37.466039: I tensorflow/core/common_runtime/process_util.cc:146] Creating new thread pool with default inter op setting: 2. Tune using inter_op_parallelism_threads for best performance.\n"
     ]
    },
    {
     "name": "stdout",
     "output_type": "stream",
     "text": [
      "Downloading data from https://storage.googleapis.com/tensorflow/keras-applications/mobilenet/mobilenet_1_0_224_tf.h5\n",
      "17227776/17225924 [==============================] - 0s 0us/step\n",
      "17235968/17225924 [==============================] - 0s 0us/step\n"
     ]
    }
   ],
   "source": [
    "mobile = tf.keras.applications.mobilenet.MobileNet()"
   ]
  },
  {
   "cell_type": "code",
   "execution_count": 24,
   "id": "0e51e6a5",
   "metadata": {
    "execution": {
     "iopub.execute_input": "2023-02-03T10:14:38.323921Z",
     "iopub.status.busy": "2023-02-03T10:14:38.323627Z",
     "iopub.status.idle": "2023-02-03T10:14:38.338823Z",
     "shell.execute_reply": "2023-02-03T10:14:38.337820Z"
    },
    "papermill": {
     "duration": 0.029394,
     "end_time": "2023-02-03T10:14:38.341206",
     "exception": false,
     "start_time": "2023-02-03T10:14:38.311812",
     "status": "completed"
    },
    "tags": []
   },
   "outputs": [
    {
     "name": "stdout",
     "output_type": "stream",
     "text": [
      "Model: \"mobilenet_1.00_224\"\n",
      "_________________________________________________________________\n",
      "Layer (type)                 Output Shape              Param #   \n",
      "=================================================================\n",
      "input_1 (InputLayer)         [(None, 224, 224, 3)]     0         \n",
      "_________________________________________________________________\n",
      "conv1 (Conv2D)               (None, 112, 112, 32)      864       \n",
      "_________________________________________________________________\n",
      "conv1_bn (BatchNormalization (None, 112, 112, 32)      128       \n",
      "_________________________________________________________________\n",
      "conv1_relu (ReLU)            (None, 112, 112, 32)      0         \n",
      "_________________________________________________________________\n",
      "conv_dw_1 (DepthwiseConv2D)  (None, 112, 112, 32)      288       \n",
      "_________________________________________________________________\n",
      "conv_dw_1_bn (BatchNormaliza (None, 112, 112, 32)      128       \n",
      "_________________________________________________________________\n",
      "conv_dw_1_relu (ReLU)        (None, 112, 112, 32)      0         \n",
      "_________________________________________________________________\n",
      "conv_pw_1 (Conv2D)           (None, 112, 112, 64)      2048      \n",
      "_________________________________________________________________\n",
      "conv_pw_1_bn (BatchNormaliza (None, 112, 112, 64)      256       \n",
      "_________________________________________________________________\n",
      "conv_pw_1_relu (ReLU)        (None, 112, 112, 64)      0         \n",
      "_________________________________________________________________\n",
      "conv_pad_2 (ZeroPadding2D)   (None, 113, 113, 64)      0         \n",
      "_________________________________________________________________\n",
      "conv_dw_2 (DepthwiseConv2D)  (None, 56, 56, 64)        576       \n",
      "_________________________________________________________________\n",
      "conv_dw_2_bn (BatchNormaliza (None, 56, 56, 64)        256       \n",
      "_________________________________________________________________\n",
      "conv_dw_2_relu (ReLU)        (None, 56, 56, 64)        0         \n",
      "_________________________________________________________________\n",
      "conv_pw_2 (Conv2D)           (None, 56, 56, 128)       8192      \n",
      "_________________________________________________________________\n",
      "conv_pw_2_bn (BatchNormaliza (None, 56, 56, 128)       512       \n",
      "_________________________________________________________________\n",
      "conv_pw_2_relu (ReLU)        (None, 56, 56, 128)       0         \n",
      "_________________________________________________________________\n",
      "conv_dw_3 (DepthwiseConv2D)  (None, 56, 56, 128)       1152      \n",
      "_________________________________________________________________\n",
      "conv_dw_3_bn (BatchNormaliza (None, 56, 56, 128)       512       \n",
      "_________________________________________________________________\n",
      "conv_dw_3_relu (ReLU)        (None, 56, 56, 128)       0         \n",
      "_________________________________________________________________\n",
      "conv_pw_3 (Conv2D)           (None, 56, 56, 128)       16384     \n",
      "_________________________________________________________________\n",
      "conv_pw_3_bn (BatchNormaliza (None, 56, 56, 128)       512       \n",
      "_________________________________________________________________\n",
      "conv_pw_3_relu (ReLU)        (None, 56, 56, 128)       0         \n",
      "_________________________________________________________________\n",
      "conv_pad_4 (ZeroPadding2D)   (None, 57, 57, 128)       0         \n",
      "_________________________________________________________________\n",
      "conv_dw_4 (DepthwiseConv2D)  (None, 28, 28, 128)       1152      \n",
      "_________________________________________________________________\n",
      "conv_dw_4_bn (BatchNormaliza (None, 28, 28, 128)       512       \n",
      "_________________________________________________________________\n",
      "conv_dw_4_relu (ReLU)        (None, 28, 28, 128)       0         \n",
      "_________________________________________________________________\n",
      "conv_pw_4 (Conv2D)           (None, 28, 28, 256)       32768     \n",
      "_________________________________________________________________\n",
      "conv_pw_4_bn (BatchNormaliza (None, 28, 28, 256)       1024      \n",
      "_________________________________________________________________\n",
      "conv_pw_4_relu (ReLU)        (None, 28, 28, 256)       0         \n",
      "_________________________________________________________________\n",
      "conv_dw_5 (DepthwiseConv2D)  (None, 28, 28, 256)       2304      \n",
      "_________________________________________________________________\n",
      "conv_dw_5_bn (BatchNormaliza (None, 28, 28, 256)       1024      \n",
      "_________________________________________________________________\n",
      "conv_dw_5_relu (ReLU)        (None, 28, 28, 256)       0         \n",
      "_________________________________________________________________\n",
      "conv_pw_5 (Conv2D)           (None, 28, 28, 256)       65536     \n",
      "_________________________________________________________________\n",
      "conv_pw_5_bn (BatchNormaliza (None, 28, 28, 256)       1024      \n",
      "_________________________________________________________________\n",
      "conv_pw_5_relu (ReLU)        (None, 28, 28, 256)       0         \n",
      "_________________________________________________________________\n",
      "conv_pad_6 (ZeroPadding2D)   (None, 29, 29, 256)       0         \n",
      "_________________________________________________________________\n",
      "conv_dw_6 (DepthwiseConv2D)  (None, 14, 14, 256)       2304      \n",
      "_________________________________________________________________\n",
      "conv_dw_6_bn (BatchNormaliza (None, 14, 14, 256)       1024      \n",
      "_________________________________________________________________\n",
      "conv_dw_6_relu (ReLU)        (None, 14, 14, 256)       0         \n",
      "_________________________________________________________________\n",
      "conv_pw_6 (Conv2D)           (None, 14, 14, 512)       131072    \n",
      "_________________________________________________________________\n",
      "conv_pw_6_bn (BatchNormaliza (None, 14, 14, 512)       2048      \n",
      "_________________________________________________________________\n",
      "conv_pw_6_relu (ReLU)        (None, 14, 14, 512)       0         \n",
      "_________________________________________________________________\n",
      "conv_dw_7 (DepthwiseConv2D)  (None, 14, 14, 512)       4608      \n",
      "_________________________________________________________________\n",
      "conv_dw_7_bn (BatchNormaliza (None, 14, 14, 512)       2048      \n",
      "_________________________________________________________________\n",
      "conv_dw_7_relu (ReLU)        (None, 14, 14, 512)       0         \n",
      "_________________________________________________________________\n",
      "conv_pw_7 (Conv2D)           (None, 14, 14, 512)       262144    \n",
      "_________________________________________________________________\n",
      "conv_pw_7_bn (BatchNormaliza (None, 14, 14, 512)       2048      \n",
      "_________________________________________________________________\n",
      "conv_pw_7_relu (ReLU)        (None, 14, 14, 512)       0         \n",
      "_________________________________________________________________\n",
      "conv_dw_8 (DepthwiseConv2D)  (None, 14, 14, 512)       4608      \n",
      "_________________________________________________________________\n",
      "conv_dw_8_bn (BatchNormaliza (None, 14, 14, 512)       2048      \n",
      "_________________________________________________________________\n",
      "conv_dw_8_relu (ReLU)        (None, 14, 14, 512)       0         \n",
      "_________________________________________________________________\n",
      "conv_pw_8 (Conv2D)           (None, 14, 14, 512)       262144    \n",
      "_________________________________________________________________\n",
      "conv_pw_8_bn (BatchNormaliza (None, 14, 14, 512)       2048      \n",
      "_________________________________________________________________\n",
      "conv_pw_8_relu (ReLU)        (None, 14, 14, 512)       0         \n",
      "_________________________________________________________________\n",
      "conv_dw_9 (DepthwiseConv2D)  (None, 14, 14, 512)       4608      \n",
      "_________________________________________________________________\n",
      "conv_dw_9_bn (BatchNormaliza (None, 14, 14, 512)       2048      \n",
      "_________________________________________________________________\n",
      "conv_dw_9_relu (ReLU)        (None, 14, 14, 512)       0         \n",
      "_________________________________________________________________\n",
      "conv_pw_9 (Conv2D)           (None, 14, 14, 512)       262144    \n",
      "_________________________________________________________________\n",
      "conv_pw_9_bn (BatchNormaliza (None, 14, 14, 512)       2048      \n",
      "_________________________________________________________________\n",
      "conv_pw_9_relu (ReLU)        (None, 14, 14, 512)       0         \n",
      "_________________________________________________________________\n",
      "conv_dw_10 (DepthwiseConv2D) (None, 14, 14, 512)       4608      \n",
      "_________________________________________________________________\n",
      "conv_dw_10_bn (BatchNormaliz (None, 14, 14, 512)       2048      \n",
      "_________________________________________________________________\n",
      "conv_dw_10_relu (ReLU)       (None, 14, 14, 512)       0         \n",
      "_________________________________________________________________\n",
      "conv_pw_10 (Conv2D)          (None, 14, 14, 512)       262144    \n",
      "_________________________________________________________________\n",
      "conv_pw_10_bn (BatchNormaliz (None, 14, 14, 512)       2048      \n",
      "_________________________________________________________________\n",
      "conv_pw_10_relu (ReLU)       (None, 14, 14, 512)       0         \n",
      "_________________________________________________________________\n",
      "conv_dw_11 (DepthwiseConv2D) (None, 14, 14, 512)       4608      \n",
      "_________________________________________________________________\n",
      "conv_dw_11_bn (BatchNormaliz (None, 14, 14, 512)       2048      \n",
      "_________________________________________________________________\n",
      "conv_dw_11_relu (ReLU)       (None, 14, 14, 512)       0         \n",
      "_________________________________________________________________\n",
      "conv_pw_11 (Conv2D)          (None, 14, 14, 512)       262144    \n",
      "_________________________________________________________________\n",
      "conv_pw_11_bn (BatchNormaliz (None, 14, 14, 512)       2048      \n",
      "_________________________________________________________________\n",
      "conv_pw_11_relu (ReLU)       (None, 14, 14, 512)       0         \n",
      "_________________________________________________________________\n",
      "conv_pad_12 (ZeroPadding2D)  (None, 15, 15, 512)       0         \n",
      "_________________________________________________________________\n",
      "conv_dw_12 (DepthwiseConv2D) (None, 7, 7, 512)         4608      \n",
      "_________________________________________________________________\n",
      "conv_dw_12_bn (BatchNormaliz (None, 7, 7, 512)         2048      \n",
      "_________________________________________________________________\n",
      "conv_dw_12_relu (ReLU)       (None, 7, 7, 512)         0         \n",
      "_________________________________________________________________\n",
      "conv_pw_12 (Conv2D)          (None, 7, 7, 1024)        524288    \n",
      "_________________________________________________________________\n",
      "conv_pw_12_bn (BatchNormaliz (None, 7, 7, 1024)        4096      \n",
      "_________________________________________________________________\n",
      "conv_pw_12_relu (ReLU)       (None, 7, 7, 1024)        0         \n",
      "_________________________________________________________________\n",
      "conv_dw_13 (DepthwiseConv2D) (None, 7, 7, 1024)        9216      \n",
      "_________________________________________________________________\n",
      "conv_dw_13_bn (BatchNormaliz (None, 7, 7, 1024)        4096      \n",
      "_________________________________________________________________\n",
      "conv_dw_13_relu (ReLU)       (None, 7, 7, 1024)        0         \n",
      "_________________________________________________________________\n",
      "conv_pw_13 (Conv2D)          (None, 7, 7, 1024)        1048576   \n",
      "_________________________________________________________________\n",
      "conv_pw_13_bn (BatchNormaliz (None, 7, 7, 1024)        4096      \n",
      "_________________________________________________________________\n",
      "conv_pw_13_relu (ReLU)       (None, 7, 7, 1024)        0         \n",
      "_________________________________________________________________\n",
      "global_average_pooling2d (Gl (None, 1024)              0         \n",
      "_________________________________________________________________\n",
      "reshape_1 (Reshape)          (None, 1, 1, 1024)        0         \n",
      "_________________________________________________________________\n",
      "dropout (Dropout)            (None, 1, 1, 1024)        0         \n",
      "_________________________________________________________________\n",
      "conv_preds (Conv2D)          (None, 1, 1, 1000)        1025000   \n",
      "_________________________________________________________________\n",
      "reshape_2 (Reshape)          (None, 1000)              0         \n",
      "_________________________________________________________________\n",
      "predictions (Activation)     (None, 1000)              0         \n",
      "=================================================================\n",
      "Total params: 4,253,864\n",
      "Trainable params: 4,231,976\n",
      "Non-trainable params: 21,888\n",
      "_________________________________________________________________\n"
     ]
    }
   ],
   "source": [
    "mobile.summary()"
   ]
  },
  {
   "cell_type": "code",
   "execution_count": 25,
   "id": "179ec83f",
   "metadata": {
    "execution": {
     "iopub.execute_input": "2023-02-03T10:14:38.365202Z",
     "iopub.status.busy": "2023-02-03T10:14:38.364770Z",
     "iopub.status.idle": "2023-02-03T10:14:38.371751Z",
     "shell.execute_reply": "2023-02-03T10:14:38.370376Z"
    },
    "papermill": {
     "duration": 0.020921,
     "end_time": "2023-02-03T10:14:38.373601",
     "exception": false,
     "start_time": "2023-02-03T10:14:38.352680",
     "status": "completed"
    },
    "tags": []
   },
   "outputs": [
    {
     "data": {
      "text/plain": [
       "92"
      ]
     },
     "execution_count": 25,
     "metadata": {},
     "output_type": "execute_result"
    }
   ],
   "source": [
    "#layers in mobile net\n",
    "len(mobile.layers)"
   ]
  },
  {
   "cell_type": "code",
   "execution_count": 26,
   "id": "304e7775",
   "metadata": {
    "execution": {
     "iopub.execute_input": "2023-02-03T10:14:38.397776Z",
     "iopub.status.busy": "2023-02-03T10:14:38.397383Z",
     "iopub.status.idle": "2023-02-03T10:14:38.433387Z",
     "shell.execute_reply": "2023-02-03T10:14:38.432479Z"
    },
    "papermill": {
     "duration": 0.053479,
     "end_time": "2023-02-03T10:14:38.438282",
     "exception": false,
     "start_time": "2023-02-03T10:14:38.384803",
     "status": "completed"
    },
    "tags": []
   },
   "outputs": [],
   "source": [
    "# CREATE THE MODEL ARCHITECTURE\n",
    "\n",
    "# Exclude the last 5 layers of the above model.\n",
    "# This will include all layers up to and including global_average_pooling2d_1\n",
    "x = mobile.layers[-6].output\n",
    "\n",
    "# Create a new dense layer for predictions\n",
    "# Flatten the output layer to 1 dimension\n",
    "x = tf.keras.layers.Flatten()(x)\n",
    "# # Create a new dense layer for predictions\n",
    "x = tf.keras.layers.Dense(1024, activation='relu')(x)\n",
    "# 7 corresponds to the number of classes\n",
    "x = tf.keras.layers.Dropout(0.25)(x)\n",
    "predictions = tf.keras.layers.Dense(7, activation='softmax')(x)\n",
    "\n",
    "# inputs=mobile.input selects the input layer, outputs=predictions refers to the\n",
    "# dense layer we created above.\n",
    "\n",
    "model = tf.keras.Model(inputs=mobile.input, outputs=predictions)"
   ]
  },
  {
   "cell_type": "code",
   "execution_count": 27,
   "id": "6a6babd9",
   "metadata": {
    "execution": {
     "iopub.execute_input": "2023-02-03T10:14:38.467375Z",
     "iopub.status.busy": "2023-02-03T10:14:38.466319Z",
     "iopub.status.idle": "2023-02-03T10:14:38.480463Z",
     "shell.execute_reply": "2023-02-03T10:14:38.479624Z"
    },
    "papermill": {
     "duration": 0.030097,
     "end_time": "2023-02-03T10:14:38.482694",
     "exception": false,
     "start_time": "2023-02-03T10:14:38.452597",
     "status": "completed"
    },
    "tags": []
   },
   "outputs": [
    {
     "name": "stdout",
     "output_type": "stream",
     "text": [
      "Model: \"model\"\n",
      "_________________________________________________________________\n",
      "Layer (type)                 Output Shape              Param #   \n",
      "=================================================================\n",
      "input_1 (InputLayer)         [(None, 224, 224, 3)]     0         \n",
      "_________________________________________________________________\n",
      "conv1 (Conv2D)               (None, 112, 112, 32)      864       \n",
      "_________________________________________________________________\n",
      "conv1_bn (BatchNormalization (None, 112, 112, 32)      128       \n",
      "_________________________________________________________________\n",
      "conv1_relu (ReLU)            (None, 112, 112, 32)      0         \n",
      "_________________________________________________________________\n",
      "conv_dw_1 (DepthwiseConv2D)  (None, 112, 112, 32)      288       \n",
      "_________________________________________________________________\n",
      "conv_dw_1_bn (BatchNormaliza (None, 112, 112, 32)      128       \n",
      "_________________________________________________________________\n",
      "conv_dw_1_relu (ReLU)        (None, 112, 112, 32)      0         \n",
      "_________________________________________________________________\n",
      "conv_pw_1 (Conv2D)           (None, 112, 112, 64)      2048      \n",
      "_________________________________________________________________\n",
      "conv_pw_1_bn (BatchNormaliza (None, 112, 112, 64)      256       \n",
      "_________________________________________________________________\n",
      "conv_pw_1_relu (ReLU)        (None, 112, 112, 64)      0         \n",
      "_________________________________________________________________\n",
      "conv_pad_2 (ZeroPadding2D)   (None, 113, 113, 64)      0         \n",
      "_________________________________________________________________\n",
      "conv_dw_2 (DepthwiseConv2D)  (None, 56, 56, 64)        576       \n",
      "_________________________________________________________________\n",
      "conv_dw_2_bn (BatchNormaliza (None, 56, 56, 64)        256       \n",
      "_________________________________________________________________\n",
      "conv_dw_2_relu (ReLU)        (None, 56, 56, 64)        0         \n",
      "_________________________________________________________________\n",
      "conv_pw_2 (Conv2D)           (None, 56, 56, 128)       8192      \n",
      "_________________________________________________________________\n",
      "conv_pw_2_bn (BatchNormaliza (None, 56, 56, 128)       512       \n",
      "_________________________________________________________________\n",
      "conv_pw_2_relu (ReLU)        (None, 56, 56, 128)       0         \n",
      "_________________________________________________________________\n",
      "conv_dw_3 (DepthwiseConv2D)  (None, 56, 56, 128)       1152      \n",
      "_________________________________________________________________\n",
      "conv_dw_3_bn (BatchNormaliza (None, 56, 56, 128)       512       \n",
      "_________________________________________________________________\n",
      "conv_dw_3_relu (ReLU)        (None, 56, 56, 128)       0         \n",
      "_________________________________________________________________\n",
      "conv_pw_3 (Conv2D)           (None, 56, 56, 128)       16384     \n",
      "_________________________________________________________________\n",
      "conv_pw_3_bn (BatchNormaliza (None, 56, 56, 128)       512       \n",
      "_________________________________________________________________\n",
      "conv_pw_3_relu (ReLU)        (None, 56, 56, 128)       0         \n",
      "_________________________________________________________________\n",
      "conv_pad_4 (ZeroPadding2D)   (None, 57, 57, 128)       0         \n",
      "_________________________________________________________________\n",
      "conv_dw_4 (DepthwiseConv2D)  (None, 28, 28, 128)       1152      \n",
      "_________________________________________________________________\n",
      "conv_dw_4_bn (BatchNormaliza (None, 28, 28, 128)       512       \n",
      "_________________________________________________________________\n",
      "conv_dw_4_relu (ReLU)        (None, 28, 28, 128)       0         \n",
      "_________________________________________________________________\n",
      "conv_pw_4 (Conv2D)           (None, 28, 28, 256)       32768     \n",
      "_________________________________________________________________\n",
      "conv_pw_4_bn (BatchNormaliza (None, 28, 28, 256)       1024      \n",
      "_________________________________________________________________\n",
      "conv_pw_4_relu (ReLU)        (None, 28, 28, 256)       0         \n",
      "_________________________________________________________________\n",
      "conv_dw_5 (DepthwiseConv2D)  (None, 28, 28, 256)       2304      \n",
      "_________________________________________________________________\n",
      "conv_dw_5_bn (BatchNormaliza (None, 28, 28, 256)       1024      \n",
      "_________________________________________________________________\n",
      "conv_dw_5_relu (ReLU)        (None, 28, 28, 256)       0         \n",
      "_________________________________________________________________\n",
      "conv_pw_5 (Conv2D)           (None, 28, 28, 256)       65536     \n",
      "_________________________________________________________________\n",
      "conv_pw_5_bn (BatchNormaliza (None, 28, 28, 256)       1024      \n",
      "_________________________________________________________________\n",
      "conv_pw_5_relu (ReLU)        (None, 28, 28, 256)       0         \n",
      "_________________________________________________________________\n",
      "conv_pad_6 (ZeroPadding2D)   (None, 29, 29, 256)       0         \n",
      "_________________________________________________________________\n",
      "conv_dw_6 (DepthwiseConv2D)  (None, 14, 14, 256)       2304      \n",
      "_________________________________________________________________\n",
      "conv_dw_6_bn (BatchNormaliza (None, 14, 14, 256)       1024      \n",
      "_________________________________________________________________\n",
      "conv_dw_6_relu (ReLU)        (None, 14, 14, 256)       0         \n",
      "_________________________________________________________________\n",
      "conv_pw_6 (Conv2D)           (None, 14, 14, 512)       131072    \n",
      "_________________________________________________________________\n",
      "conv_pw_6_bn (BatchNormaliza (None, 14, 14, 512)       2048      \n",
      "_________________________________________________________________\n",
      "conv_pw_6_relu (ReLU)        (None, 14, 14, 512)       0         \n",
      "_________________________________________________________________\n",
      "conv_dw_7 (DepthwiseConv2D)  (None, 14, 14, 512)       4608      \n",
      "_________________________________________________________________\n",
      "conv_dw_7_bn (BatchNormaliza (None, 14, 14, 512)       2048      \n",
      "_________________________________________________________________\n",
      "conv_dw_7_relu (ReLU)        (None, 14, 14, 512)       0         \n",
      "_________________________________________________________________\n",
      "conv_pw_7 (Conv2D)           (None, 14, 14, 512)       262144    \n",
      "_________________________________________________________________\n",
      "conv_pw_7_bn (BatchNormaliza (None, 14, 14, 512)       2048      \n",
      "_________________________________________________________________\n",
      "conv_pw_7_relu (ReLU)        (None, 14, 14, 512)       0         \n",
      "_________________________________________________________________\n",
      "conv_dw_8 (DepthwiseConv2D)  (None, 14, 14, 512)       4608      \n",
      "_________________________________________________________________\n",
      "conv_dw_8_bn (BatchNormaliza (None, 14, 14, 512)       2048      \n",
      "_________________________________________________________________\n",
      "conv_dw_8_relu (ReLU)        (None, 14, 14, 512)       0         \n",
      "_________________________________________________________________\n",
      "conv_pw_8 (Conv2D)           (None, 14, 14, 512)       262144    \n",
      "_________________________________________________________________\n",
      "conv_pw_8_bn (BatchNormaliza (None, 14, 14, 512)       2048      \n",
      "_________________________________________________________________\n",
      "conv_pw_8_relu (ReLU)        (None, 14, 14, 512)       0         \n",
      "_________________________________________________________________\n",
      "conv_dw_9 (DepthwiseConv2D)  (None, 14, 14, 512)       4608      \n",
      "_________________________________________________________________\n",
      "conv_dw_9_bn (BatchNormaliza (None, 14, 14, 512)       2048      \n",
      "_________________________________________________________________\n",
      "conv_dw_9_relu (ReLU)        (None, 14, 14, 512)       0         \n",
      "_________________________________________________________________\n",
      "conv_pw_9 (Conv2D)           (None, 14, 14, 512)       262144    \n",
      "_________________________________________________________________\n",
      "conv_pw_9_bn (BatchNormaliza (None, 14, 14, 512)       2048      \n",
      "_________________________________________________________________\n",
      "conv_pw_9_relu (ReLU)        (None, 14, 14, 512)       0         \n",
      "_________________________________________________________________\n",
      "conv_dw_10 (DepthwiseConv2D) (None, 14, 14, 512)       4608      \n",
      "_________________________________________________________________\n",
      "conv_dw_10_bn (BatchNormaliz (None, 14, 14, 512)       2048      \n",
      "_________________________________________________________________\n",
      "conv_dw_10_relu (ReLU)       (None, 14, 14, 512)       0         \n",
      "_________________________________________________________________\n",
      "conv_pw_10 (Conv2D)          (None, 14, 14, 512)       262144    \n",
      "_________________________________________________________________\n",
      "conv_pw_10_bn (BatchNormaliz (None, 14, 14, 512)       2048      \n",
      "_________________________________________________________________\n",
      "conv_pw_10_relu (ReLU)       (None, 14, 14, 512)       0         \n",
      "_________________________________________________________________\n",
      "conv_dw_11 (DepthwiseConv2D) (None, 14, 14, 512)       4608      \n",
      "_________________________________________________________________\n",
      "conv_dw_11_bn (BatchNormaliz (None, 14, 14, 512)       2048      \n",
      "_________________________________________________________________\n",
      "conv_dw_11_relu (ReLU)       (None, 14, 14, 512)       0         \n",
      "_________________________________________________________________\n",
      "conv_pw_11 (Conv2D)          (None, 14, 14, 512)       262144    \n",
      "_________________________________________________________________\n",
      "conv_pw_11_bn (BatchNormaliz (None, 14, 14, 512)       2048      \n",
      "_________________________________________________________________\n",
      "conv_pw_11_relu (ReLU)       (None, 14, 14, 512)       0         \n",
      "_________________________________________________________________\n",
      "conv_pad_12 (ZeroPadding2D)  (None, 15, 15, 512)       0         \n",
      "_________________________________________________________________\n",
      "conv_dw_12 (DepthwiseConv2D) (None, 7, 7, 512)         4608      \n",
      "_________________________________________________________________\n",
      "conv_dw_12_bn (BatchNormaliz (None, 7, 7, 512)         2048      \n",
      "_________________________________________________________________\n",
      "conv_dw_12_relu (ReLU)       (None, 7, 7, 512)         0         \n",
      "_________________________________________________________________\n",
      "conv_pw_12 (Conv2D)          (None, 7, 7, 1024)        524288    \n",
      "_________________________________________________________________\n",
      "conv_pw_12_bn (BatchNormaliz (None, 7, 7, 1024)        4096      \n",
      "_________________________________________________________________\n",
      "conv_pw_12_relu (ReLU)       (None, 7, 7, 1024)        0         \n",
      "_________________________________________________________________\n",
      "conv_dw_13 (DepthwiseConv2D) (None, 7, 7, 1024)        9216      \n",
      "_________________________________________________________________\n",
      "conv_dw_13_bn (BatchNormaliz (None, 7, 7, 1024)        4096      \n",
      "_________________________________________________________________\n",
      "conv_dw_13_relu (ReLU)       (None, 7, 7, 1024)        0         \n",
      "_________________________________________________________________\n",
      "conv_pw_13 (Conv2D)          (None, 7, 7, 1024)        1048576   \n",
      "_________________________________________________________________\n",
      "conv_pw_13_bn (BatchNormaliz (None, 7, 7, 1024)        4096      \n",
      "_________________________________________________________________\n",
      "conv_pw_13_relu (ReLU)       (None, 7, 7, 1024)        0         \n",
      "_________________________________________________________________\n",
      "global_average_pooling2d (Gl (None, 1024)              0         \n",
      "_________________________________________________________________\n",
      "flatten (Flatten)            (None, 1024)              0         \n",
      "_________________________________________________________________\n",
      "dense (Dense)                (None, 1024)              1049600   \n",
      "_________________________________________________________________\n",
      "dropout (Dropout)            (None, 1024)              0         \n",
      "_________________________________________________________________\n",
      "dense_1 (Dense)              (None, 7)                 7175      \n",
      "=================================================================\n",
      "Total params: 4,285,639\n",
      "Trainable params: 4,263,751\n",
      "Non-trainable params: 21,888\n",
      "_________________________________________________________________\n"
     ]
    }
   ],
   "source": [
    "model.summary()"
   ]
  },
  {
   "cell_type": "code",
   "execution_count": 28,
   "id": "0ed26570",
   "metadata": {
    "execution": {
     "iopub.execute_input": "2023-02-03T10:14:38.507961Z",
     "iopub.status.busy": "2023-02-03T10:14:38.506962Z",
     "iopub.status.idle": "2023-02-03T10:14:38.513606Z",
     "shell.execute_reply": "2023-02-03T10:14:38.512792Z"
    },
    "papermill": {
     "duration": 0.021111,
     "end_time": "2023-02-03T10:14:38.515721",
     "exception": false,
     "start_time": "2023-02-03T10:14:38.494610",
     "status": "completed"
    },
    "tags": []
   },
   "outputs": [],
   "source": [
    "# We need to choose how many layers we actually want to be trained.\n",
    "\n",
    "# Here we are freezing the weights of all layers except the\n",
    "# last 25 layers in the new model.\n",
    "# The last 25 layers of the model will be trained.\n",
    "\n",
    "for layer in model.layers[:-25]:\n",
    "    layer.trainable = False\n",
    "\n",
    "# model.trainable = False # We don't want to re-train the pre-trained weights"
   ]
  },
  {
   "cell_type": "code",
   "execution_count": 29,
   "id": "914a41a5",
   "metadata": {
    "execution": {
     "iopub.execute_input": "2023-02-03T10:14:38.541488Z",
     "iopub.status.busy": "2023-02-03T10:14:38.540236Z",
     "iopub.status.idle": "2023-02-03T10:14:38.552054Z",
     "shell.execute_reply": "2023-02-03T10:14:38.551469Z"
    },
    "papermill": {
     "duration": 0.026575,
     "end_time": "2023-02-03T10:14:38.554227",
     "exception": false,
     "start_time": "2023-02-03T10:14:38.527652",
     "status": "completed"
    },
    "tags": []
   },
   "outputs": [],
   "source": [
    "model.compile(tf.keras.optimizers.Adam(learning_rate=0.00001), loss='categorical_crossentropy', \n",
    "              metrics=['accuracy'])"
   ]
  },
  {
   "cell_type": "code",
   "execution_count": 30,
   "id": "f4d7bda3",
   "metadata": {
    "execution": {
     "iopub.execute_input": "2023-02-03T10:14:38.579027Z",
     "iopub.status.busy": "2023-02-03T10:14:38.578700Z",
     "iopub.status.idle": "2023-02-03T10:14:38.583236Z",
     "shell.execute_reply": "2023-02-03T10:14:38.582471Z"
    },
    "papermill": {
     "duration": 0.018931,
     "end_time": "2023-02-03T10:14:38.585053",
     "exception": false,
     "start_time": "2023-02-03T10:14:38.566122",
     "status": "completed"
    },
    "tags": []
   },
   "outputs": [
    {
     "name": "stdout",
     "output_type": "stream",
     "text": [
      "{'akiec': 0, 'bcc': 1, 'bkl': 2, 'df': 3, 'mel': 4, 'nv': 5, 'vasc': 6}\n"
     ]
    }
   ],
   "source": [
    "# Get the labels that are associated with each index\n",
    "print(valid_batches.class_indices)"
   ]
  },
  {
   "cell_type": "code",
   "execution_count": 31,
   "id": "8f5be3db",
   "metadata": {
    "execution": {
     "iopub.execute_input": "2023-02-03T10:14:38.610157Z",
     "iopub.status.busy": "2023-02-03T10:14:38.609851Z",
     "iopub.status.idle": "2023-02-03T10:35:57.545602Z",
     "shell.execute_reply": "2023-02-03T10:35:57.544812Z"
    },
    "papermill": {
     "duration": 1278.950588,
     "end_time": "2023-02-03T10:35:57.547539",
     "exception": false,
     "start_time": "2023-02-03T10:14:38.596951",
     "status": "completed"
    },
    "tags": []
   },
   "outputs": [
    {
     "name": "stderr",
     "output_type": "stream",
     "text": [
      "2023-02-03 10:14:38.788082: I tensorflow/compiler/mlir/mlir_graph_optimization_pass.cc:185] None of the MLIR Optimization Passes are enabled (registered 2)\n"
     ]
    },
    {
     "name": "stdout",
     "output_type": "stream",
     "text": [
      "Epoch 1/5\n",
      "908/908 [==============================] - 249s 272ms/step - loss: 0.9757 - accuracy: 0.6644 - val_loss: 0.4722 - val_accuracy: 0.8507\n",
      "Epoch 2/5\n",
      "908/908 [==============================] - 248s 272ms/step - loss: 0.7727 - accuracy: 0.7256 - val_loss: 0.4025 - val_accuracy: 0.8657\n",
      "Epoch 3/5\n",
      "908/908 [==============================] - 245s 269ms/step - loss: 0.6970 - accuracy: 0.7516 - val_loss: 0.3693 - val_accuracy: 0.8774\n",
      "Epoch 4/5\n",
      "908/908 [==============================] - 244s 268ms/step - loss: 0.6274 - accuracy: 0.7755 - val_loss: 0.3658 - val_accuracy: 0.8817\n",
      "Epoch 5/5\n",
      "908/908 [==============================] - 244s 268ms/step - loss: 0.5790 - accuracy: 0.7916 - val_loss: 0.3440 - val_accuracy: 0.8913\n"
     ]
    }
   ],
   "source": [
    "train = model.fit(train_batches, steps_per_epoch=train_steps, \n",
    "\n",
    "                    validation_data=valid_batches,\n",
    "                    validation_steps=val_steps,\n",
    "                    epochs=5, verbose=1)"
   ]
  },
  {
   "cell_type": "markdown",
   "id": "3b077d01",
   "metadata": {
    "papermill": {
     "duration": 0.304918,
     "end_time": "2023-02-03T10:35:58.105357",
     "exception": false,
     "start_time": "2023-02-03T10:35:57.800439",
     "status": "completed"
    },
    "tags": []
   },
   "source": [
    "Evaluate the model using the val set"
   ]
  },
  {
   "cell_type": "code",
   "execution_count": 32,
   "id": "48598e22",
   "metadata": {
    "execution": {
     "iopub.execute_input": "2023-02-03T10:35:58.623971Z",
     "iopub.status.busy": "2023-02-03T10:35:58.623404Z",
     "iopub.status.idle": "2023-02-03T10:35:58.629174Z",
     "shell.execute_reply": "2023-02-03T10:35:58.628261Z"
    },
    "papermill": {
     "duration": 0.269096,
     "end_time": "2023-02-03T10:35:58.630944",
     "exception": false,
     "start_time": "2023-02-03T10:35:58.361848",
     "status": "completed"
    },
    "tags": []
   },
   "outputs": [
    {
     "data": {
      "text/plain": [
       "['loss', 'accuracy']"
      ]
     },
     "execution_count": 32,
     "metadata": {},
     "output_type": "execute_result"
    }
   ],
   "source": [
    "model.metrics_names"
   ]
  },
  {
   "cell_type": "code",
   "execution_count": 33,
   "id": "b5833c71",
   "metadata": {
    "execution": {
     "iopub.execute_input": "2023-02-03T10:35:59.147412Z",
     "iopub.status.busy": "2023-02-03T10:35:59.146826Z",
     "iopub.status.idle": "2023-02-03T10:36:24.006330Z",
     "shell.execute_reply": "2023-02-03T10:36:24.005103Z"
    },
    "papermill": {
     "duration": 25.117723,
     "end_time": "2023-02-03T10:36:24.008217",
     "exception": false,
     "start_time": "2023-02-03T10:35:58.890494",
     "status": "completed"
    },
    "tags": []
   },
   "outputs": [
    {
     "name": "stdout",
     "output_type": "stream",
     "text": [
      "938/938 [==============================] - 25s 26ms/step - loss: 0.3440 - accuracy: 0.8913\n",
      "val_loss: 0.3439837396144867\n",
      "val_acc: 0.8912580013275146\n"
     ]
    }
   ],
   "source": [
    "val_loss, val_acc = model.evaluate(test_batches, steps=len(df_val))\n",
    "\n",
    "print('val_loss:', val_loss)\n",
    "print('val_acc:', val_acc)"
   ]
  },
  {
   "cell_type": "code",
   "execution_count": 34,
   "id": "60512d7a",
   "metadata": {
    "execution": {
     "iopub.execute_input": "2023-02-03T10:36:24.567602Z",
     "iopub.status.busy": "2023-02-03T10:36:24.567211Z",
     "iopub.status.idle": "2023-02-03T10:37:06.905187Z",
     "shell.execute_reply": "2023-02-03T10:37:06.903947Z"
    },
    "papermill": {
     "duration": 42.622339,
     "end_time": "2023-02-03T10:37:06.907223",
     "exception": false,
     "start_time": "2023-02-03T10:36:24.284884",
     "status": "completed"
    },
    "tags": []
   },
   "outputs": [
    {
     "name": "stdout",
     "output_type": "stream",
     "text": [
      "938/938 [==============================] - 24s 26ms/step - loss: 0.3440 - accuracy: 0.8913\n",
      "938/938 [==============================] - 18s 19ms/step - loss: 0.3440 - accuracy: 0.8913\n",
      "Validation: accuracy = 0.891258  ;  loss_v = 0.343983\n",
      "Test: accuracy = 0.891258  ;  loss = 0.343984\n"
     ]
    }
   ],
   "source": [
    "loss, accuracy = model.evaluate(test_batches)\n",
    "loss_v, accuracy_v = model.evaluate(valid_batches,steps=len(df_val))\n",
    "print(\"Validation: accuracy = %f  ;  loss_v = %f\" % (accuracy_v, loss_v))\n",
    "print(\"Test: accuracy = %f  ;  loss = %f\" % (accuracy, loss))"
   ]
  },
  {
   "cell_type": "markdown",
   "id": "15a4a738",
   "metadata": {
    "papermill": {
     "duration": 0.301411,
     "end_time": "2023-02-03T10:37:07.557441",
     "exception": false,
     "start_time": "2023-02-03T10:37:07.256030",
     "status": "completed"
    },
    "tags": []
   },
   "source": [
    "### Plotting graph training vs validation"
   ]
  },
  {
   "cell_type": "code",
   "execution_count": 35,
   "id": "0d147bf9",
   "metadata": {
    "execution": {
     "iopub.execute_input": "2023-02-03T10:37:08.162248Z",
     "iopub.status.busy": "2023-02-03T10:37:08.161707Z",
     "iopub.status.idle": "2023-02-03T10:37:08.450261Z",
     "shell.execute_reply": "2023-02-03T10:37:08.449188Z"
    },
    "papermill": {
     "duration": 0.591447,
     "end_time": "2023-02-03T10:37:08.452266",
     "exception": false,
     "start_time": "2023-02-03T10:37:07.860819",
     "status": "completed"
    },
    "tags": []
   },
   "outputs": [
    {
     "data": {
      "image/png": "[encoded data removed]",
      "text/plain": [
       "<Figure size 1080x360 with 2 Axes>"
      ]
     },
     "metadata": {
      "needs_background": "light"
     },
     "output_type": "display_data"
    }
   ],
   "source": [
    "plt.figure(figsize=(15,5))\n",
    "plt.subplot(1, 2, 1)\n",
    "plt.plot(train.history['accuracy'],'r', label='accuracy')\n",
    "plt.plot(train.history['val_accuracy'],'b', label = 'val_accuracy')\n",
    "plt.xlabel('Epoch')\n",
    "plt.ylabel('Accuracy')\n",
    "plt.legend()\n",
    "# plt.show()\n",
    "plt.subplot(1, 2, 2)\n",
    "plt.plot(train.history['loss'],'r', label='loss')\n",
    "plt.plot(train.history['val_loss'],'b', label = 'val_loss')\n",
    "plt.xlabel('Epoch')\n",
    "plt.ylabel('Loss')\n",
    "plt.legend()\n",
    "plt.show()"
   ]
  },
  {
   "cell_type": "code",
   "execution_count": 36,
   "id": "72b1d620",
   "metadata": {
    "execution": {
     "iopub.execute_input": "2023-02-03T10:37:09.093897Z",
     "iopub.status.busy": "2023-02-03T10:37:09.092945Z",
     "iopub.status.idle": "2023-02-03T10:37:09.098485Z",
     "shell.execute_reply": "2023-02-03T10:37:09.097717Z"
    },
    "papermill": {
     "duration": 0.30798,
     "end_time": "2023-02-03T10:37:09.101064",
     "exception": false,
     "start_time": "2023-02-03T10:37:08.793084",
     "status": "completed"
    },
    "tags": []
   },
   "outputs": [
    {
     "name": "stdout",
     "output_type": "stream",
     "text": [
      "{'akiec': 0, 'bcc': 1, 'bkl': 2, 'df': 3, 'mel': 4, 'nv': 5, 'vasc': 6}\n"
     ]
    }
   ],
   "source": [
    "test_labels = test_batches.classes\n",
    "# print(test_labels)\n",
    "print(test_batches.class_indices)"
   ]
  },
  {
   "cell_type": "code",
   "execution_count": 37,
   "id": "7aec3e11",
   "metadata": {
    "execution": {
     "iopub.execute_input": "2023-02-03T10:37:09.706805Z",
     "iopub.status.busy": "2023-02-03T10:37:09.705955Z",
     "iopub.status.idle": "2023-02-03T10:37:34.593789Z",
     "shell.execute_reply": "2023-02-03T10:37:34.592794Z"
    },
    "papermill": {
     "duration": 25.191452,
     "end_time": "2023-02-03T10:37:34.596173",
     "exception": false,
     "start_time": "2023-02-03T10:37:09.404721",
     "status": "completed"
    },
    "tags": []
   },
   "outputs": [
    {
     "name": "stdout",
     "output_type": "stream",
     "text": [
      "938/938 [==============================] - 25s 26ms/step\n"
     ]
    }
   ],
   "source": [
    "# make a prediction\n",
    "predictions = model.predict(test_batches, steps=len(df_val), verbose=1)"
   ]
  },
  {
   "cell_type": "code",
   "execution_count": 38,
   "id": "22350c6e",
   "metadata": {
    "execution": {
     "iopub.execute_input": "2023-02-03T10:37:35.312116Z",
     "iopub.status.busy": "2023-02-03T10:37:35.311817Z",
     "iopub.status.idle": "2023-02-03T10:37:35.316542Z",
     "shell.execute_reply": "2023-02-03T10:37:35.315654Z"
    },
    "papermill": {
     "duration": 0.399828,
     "end_time": "2023-02-03T10:37:35.318493",
     "exception": false,
     "start_time": "2023-02-03T10:37:34.918665",
     "status": "completed"
    },
    "tags": []
   },
   "outputs": [
    {
     "name": "stdout",
     "output_type": "stream",
     "text": [
      "(938, 7) \n",
      " (938,)\n"
     ]
    }
   ],
   "source": [
    "print(predictions.shape,\"\\n\",test_labels.shape)"
   ]
  },
  {
   "cell_type": "code",
   "execution_count": 39,
   "id": "011a0331",
   "metadata": {
    "execution": {
     "iopub.execute_input": "2023-02-03T10:37:36.008247Z",
     "iopub.status.busy": "2023-02-03T10:37:36.007906Z",
     "iopub.status.idle": "2023-02-03T10:37:36.015867Z",
     "shell.execute_reply": "2023-02-03T10:37:36.015222Z"
    },
    "papermill": {
     "duration": 0.336533,
     "end_time": "2023-02-03T10:37:36.017361",
     "exception": false,
     "start_time": "2023-02-03T10:37:35.680828",
     "status": "completed"
    },
    "tags": []
   },
   "outputs": [],
   "source": [
    "def plot_confusion_matrix(cm, classes,title,\n",
    "                          normalize=False,cmap=plt.cm.Reds):\n",
    "    \"\"\"\n",
    "    This function prints and plots the confusion matrix.\n",
    "    Normalization can be applied by setting `normalize=True`.\n",
    "    \"\"\"\n",
    "    if normalize:\n",
    "        cm = cm.astype('float') / cm.sum(axis=1)[:, np.newaxis]\n",
    "        print(\"Normalized confusion matrix\")\n",
    "    else:\n",
    "        print('Confusion matrix, without normalization')\n",
    "\n",
    "    print(cm)\n",
    "    plt.imshow(cm, interpolation='nearest', cmap=cmap)\n",
    "    plt.title(title)\n",
    "    plt.colorbar()\n",
    "    tick_marks = np.arange(len(classes))\n",
    "    plt.xticks(tick_marks, classes, rotation=45)\n",
    "    plt.yticks(tick_marks, classes)\n",
    "\n",
    "    fmt = '.2f' if normalize else 'd'\n",
    "    thresh = cm.max() / 2.\n",
    "    for i, j in itertools.product(range(cm.shape[0]), range(cm.shape[1])):\n",
    "        plt.text(j, i, format(cm[i, j], fmt),\n",
    "                 horizontalalignment=\"center\",\n",
    "                 color=\"white\" if cm[i, j] > thresh else \"black\")\n",
    "\n",
    "    plt.ylabel('True label')\n",
    "    plt.xlabel('Predicted label')\n",
    "    plt.tight_layout()\n"
   ]
  },
  {
   "cell_type": "code",
   "execution_count": 40,
   "id": "cd6e3137",
   "metadata": {
    "execution": {
     "iopub.execute_input": "2023-02-03T10:37:36.668395Z",
     "iopub.status.busy": "2023-02-03T10:37:36.667848Z",
     "iopub.status.idle": "2023-02-03T10:37:37.194374Z",
     "shell.execute_reply": "2023-02-03T10:37:37.193255Z"
    },
    "papermill": {
     "duration": 0.855216,
     "end_time": "2023-02-03T10:37:37.196609",
     "exception": false,
     "start_time": "2023-02-03T10:37:36.341393",
     "status": "completed"
    },
    "tags": []
   },
   "outputs": [
    {
     "name": "stdout",
     "output_type": "stream",
     "text": [
      "Confusion matrix, without normalization\n",
      "[[  9   5   6   0   2   4   0]\n",
      " [  1  26   2   0   0   1   0]\n",
      " [  1   4  45   0   8  17   0]\n",
      " [  0   0   1   1   0   4   0]\n",
      " [  0   1   7   0  18  13   0]\n",
      " [  4   9   3   0   5 730   0]\n",
      " [  0   0   0   0   0   4   7]]\n"
     ]
    },
    {
     "data": {
      "image/png": "[encoded data removed]",
      "text/plain": [
       "<Figure size 432x288 with 2 Axes>"
      ]
     },
     "metadata": {
      "needs_background": "light"
     },
     "output_type": "display_data"
    }
   ],
   "source": [
    "cm = confusion_matrix(test_labels, predictions.argmax(axis=1))\n",
    "cm_plot_labels = ['akiec', 'bcc', 'bkl', 'df', 'mel','nv', 'vasc']\n",
    "\n",
    "plot_confusion_matrix(cm, cm_plot_labels, title='Confusion Matrix')"
   ]
  },
  {
   "cell_type": "code",
   "execution_count": 41,
   "id": "1ba9072d",
   "metadata": {
    "execution": {
     "iopub.execute_input": "2023-02-03T10:37:37.894518Z",
     "iopub.status.busy": "2023-02-03T10:37:37.893794Z",
     "iopub.status.idle": "2023-02-03T10:37:38.557266Z",
     "shell.execute_reply": "2023-02-03T10:37:38.556489Z"
    },
    "papermill": {
     "duration": 0.988545,
     "end_time": "2023-02-03T10:37:38.559564",
     "exception": false,
     "start_time": "2023-02-03T10:37:37.571019",
     "status": "completed"
    },
    "tags": []
   },
   "outputs": [
    {
     "name": "stdout",
     "output_type": "stream",
     "text": [
      "Test image shape:  (1, 224, 224, 3)\n",
      "predictions:  [[0.10770775 0.13162284 0.28075802 0.00695971 0.28496453 0.18745722\n",
      "  0.00052997]]\n",
      " lesions type: 4\n"
     ]
    },
    {
     "data": {
      "text/plain": [
       "<matplotlib.image.AxesImage at 0x7f835b0ca450>"
      ]
     },
     "execution_count": 41,
     "metadata": {},
     "output_type": "execute_result"
    },
    {
     "data": {
      "image/png": "[encoded data removed]",
      "text/plain": [
       "<Figure size 432x288 with 1 Axes>"
      ]
     },
     "metadata": {
      "needs_background": "light"
     },
     "output_type": "display_data"
    }
   ],
   "source": [
    "# test_batches\n",
    "test_img = test_batches[2][0]\n",
    "print(\"Test image shape: \",test_img.shape)\n",
    "predictions= model.predict(test_img)\n",
    "print(\"predictions: \",predictions)\n",
    "def max_ypred(y_pred):\n",
    "    max_ypred2 = np.max(predictions)\n",
    "    for i,n in enumerate(predictions[0]):\n",
    "        if n == max_ypred2:\n",
    "            return i\n",
    "\n",
    "print(' lesions type: {}'.format(max_ypred(predictions)))\n",
    "plt.imshow(test_img.reshape(224,224,3))"
   ]
  },
  {
   "cell_type": "code",
   "execution_count": null,
   "id": "2bccd0ae",
   "metadata": {
    "papermill": {
     "duration": 0.318184,
     "end_time": "2023-02-03T10:37:39.198193",
     "exception": false,
     "start_time": "2023-02-03T10:37:38.880009",
     "status": "completed"
    },
    "tags": []
   },
   "outputs": [],
   "source": []
  }
 ],
 "metadata": {
  "kernelspec": {
   "display_name": "Python 3",
   "language": "python",
   "name": "python3"
  },
  "language_info": {
   "codemirror_mode": {
    "name": "ipython",
    "version": 3
   },
   "file_extension": ".py",
   "mimetype": "text/x-python",
   "name": "python",
   "nbconvert_exporter": "python",
   "pygments_lexer": "ipython3",
   "version": "3.7.12"
  },
  "papermill": {
   "default_parameters": {},
   "duration": 1502.543301,
   "end_time": "2023-02-03T10:37:42.569475",
   "environment_variables": {},
   "exception": null,
   "input_path": "__notebook__.ipynb",
   "output_path": "__notebook__.ipynb",
   "parameters": {},
   "start_time": "2023-02-03T10:12:40.026174",
   "version": "2.3.4"
  }
 },
 "nbformat": 4,
 "nbformat_minor": 5
}
